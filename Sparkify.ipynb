{
 "cells": [
  {
   "cell_type": "markdown",
   "metadata": {},
   "source": [
    "# Sparkify Project Workspace\n",
    "This workspace contains a tiny subset (128MB) of the full dataset available (12GB). Feel free to use this workspace to build your project, or to explore a smaller subset with Spark before deploying your cluster on the cloud. Instructions for setting up your Spark cluster is included in the last lesson of the Extracurricular Spark Course content.\n",
    "\n",
    "You can follow the steps below to guide your data analysis and model building portion of this project."
   ]
  },
  {
   "cell_type": "code",
   "execution_count": 1,
   "metadata": {},
   "outputs": [],
   "source": [
    "# import libraries\n",
    "from pyspark.sql import SparkSession\n",
    "import matplotlib.pyplot as plt\n",
    "%matplotlib inline\n",
    "import seaborn as sns\n",
    "from pyspark.sql.functions import col, udf\n",
    "from pyspark.sql.types import IntegerType\n",
    "import pandas as pd\n",
    "import numpy as np\n",
    "from pyspark.ml.classification import RandomForestClassifier, GBTClassifier, LogisticRegression, MultilayerPerceptronClassifier\n",
    "from pyspark.ml.feature import StandardScaler, VectorAssembler\n",
    "from pyspark.ml.tuning import CrossValidator, ParamGridBuilder\n",
    "from pyspark.ml import Pipeline\n",
    "from pyspark.ml.evaluation import BinaryClassificationEvaluator, MulticlassClassificationEvaluator"
   ]
  },
  {
   "cell_type": "code",
   "execution_count": 2,
   "metadata": {},
   "outputs": [],
   "source": [
    "# create a Spark session\n",
    "spark = SparkSession \\\n",
    "    .builder \\\n",
    "    .appName(\"sparkify\") \\\n",
    "    .getOrCreate()\n",
    "spark.conf.set(\"spark.sql.repl.eagerEval.enabled\", True)"
   ]
  },
  {
   "cell_type": "markdown",
   "metadata": {},
   "source": [
    "# Load and Clean Dataset\n",
    "In this workspace, the mini-dataset file is `mini_sparkify_event_data.json`. Load and clean the dataset, checking for invalid or missing data - for example, records without userids or sessionids. "
   ]
  },
  {
   "cell_type": "markdown",
   "metadata": {},
   "source": [
    "#### 1.1 Data loading"
   ]
  },
  {
   "cell_type": "code",
   "execution_count": 3,
   "metadata": {},
   "outputs": [],
   "source": [
    "data_from_json = \"mini_sparkify_event_data.json\"\n",
    "spark_dataframe = spark.read.json(data_from_json)"
   ]
  },
  {
   "cell_type": "markdown",
   "metadata": {},
   "source": [
    "#### 1.2. Checking dataframe size"
   ]
  },
  {
   "cell_type": "code",
   "execution_count": 4,
   "metadata": {},
   "outputs": [
    {
     "data": {
      "text/plain": [
       "(286500, 18)"
      ]
     },
     "execution_count": 4,
     "metadata": {},
     "output_type": "execute_result"
    }
   ],
   "source": [
    "spark_dataframe.toPandas().shape"
   ]
  },
  {
   "cell_type": "markdown",
   "metadata": {},
   "source": [
    "The dataframes has 286 500 rows and 18 columns."
   ]
  },
  {
   "cell_type": "markdown",
   "metadata": {},
   "source": [
    "#### 1.3. Checking null values."
   ]
  },
  {
   "cell_type": "code",
   "execution_count": 29,
   "metadata": {},
   "outputs": [
    {
     "name": "stdout",
     "output_type": "stream",
     "text": [
      "The count of null values in the column artist = 58392\n",
      "The count of null values in the column firstName = 8346\n",
      "The count of null values in the column gender = 8346\n",
      "The count of null values in the column lastName = 8346\n",
      "The count of null values in the column length = 58392\n",
      "The count of null values in the column location = 8346\n",
      "The count of null values in the column registration = 8346\n",
      "The count of null values in the column song = 58392\n",
      "The count of null values in the column userAgent = 8346\n"
     ]
    }
   ],
   "source": [
    "for column in spark_dataframe.columns:\n",
    "    null_count = spark_dataframe.filter(spark_dataframe[column].isNull()).count()\n",
    "    if null_count != 0:\n",
    "        print(f'The count of null values in the column {column} = {null_count}')"
   ]
  },
  {
   "cell_type": "markdown",
   "metadata": {},
   "source": [
    "We can see that columns 'firstName' and 'LastName' have 8346 null values. Furthermore, the column 'userAgent' includes the 8346 null values too.\n",
    "Nevertheless, the column 'userId' has not null values. We have to check the column 'userId' on invalid data, like an empty row."
   ]
  },
  {
   "cell_type": "code",
   "execution_count": 30,
   "metadata": {},
   "outputs": [
    {
     "data": {
      "text/plain": [
       "8346"
      ]
     },
     "execution_count": 30,
     "metadata": {},
     "output_type": "execute_result"
    }
   ],
   "source": [
    "spark_dataframe.where(spark_dataframe[\"userId\"]== '').count()"
   ]
  },
  {
   "cell_type": "markdown",
   "metadata": {},
   "source": [
    "The same 8346 rows. Try to display one of them."
   ]
  },
  {
   "cell_type": "code",
   "execution_count": 31,
   "metadata": {},
   "outputs": [
    {
     "name": "stdout",
     "output_type": "stream",
     "text": [
      "-RECORD 0----------------------\n",
      " artist        | null          \n",
      " auth          | Logged Out    \n",
      " firstName     | null          \n",
      " gender        | null          \n",
      " itemInSession | 100           \n",
      " lastName      | null          \n",
      " length        | null          \n",
      " level         | free          \n",
      " location      | null          \n",
      " method        | GET           \n",
      " page          | Home          \n",
      " registration  | null          \n",
      " sessionId     | 8             \n",
      " song          | null          \n",
      " status        | 200           \n",
      " ts            | 1538355745000 \n",
      " userAgent     | null          \n",
      " userId        |               \n",
      "only showing top 1 row\n",
      "\n"
     ]
    }
   ],
   "source": [
    "spark_dataframe.where(spark_dataframe[\"userId\"]== '').show(1, vertical=True, truncate=False)"
   ]
  },
  {
   "cell_type": "markdown",
   "metadata": {},
   "source": [
    "We can see the 'Logged Out' value in the 'auth' column where the 'userId' column value is an empty row.\n",
    "\n",
    "What the values does  the 'auth' column include, except 'Logged Out'?"
   ]
  },
  {
   "cell_type": "code",
   "execution_count": 32,
   "metadata": {},
   "outputs": [
    {
     "data": {
      "text/plain": [
       "<matplotlib.axes._subplots.AxesSubplot at 0x7fcd13228048>"
      ]
     },
     "execution_count": 32,
     "metadata": {},
     "output_type": "execute_result"
    },
    {
     "data": {
      "image/png": "[encoded data removed]",
      "text/plain": [
       "<matplotlib.figure.Figure at 0x7fcd1d144be0>"
      ]
     },
     "metadata": {
      "needs_background": "light"
     },
     "output_type": "display_data"
    }
   ],
   "source": [
    "# Auth's values bar plot\n",
    "auth_to_plot = spark_dataframe.select(\"auth\").where(spark_dataframe[\"userId\"]== '') \\\n",
    ".groupBy(\"auth\").count().toPandas()\n",
    "sns.barplot(x='auth', y='count', hue='auth', data=auth_to_plot)"
   ]
  },
  {
   "cell_type": "markdown",
   "metadata": {},
   "source": [
    "The plot show us that the 'auth' column consists of the 'Logged Out' and the 'Guest' values. \n",
    "\n",
    "We can drop all rows with the 'Logged Out' and the 'Guest' values due to these rows are the audit records and have not the information about a user churn or any user activity."
   ]
  },
  {
   "cell_type": "code",
   "execution_count": 4,
   "metadata": {},
   "outputs": [],
   "source": [
    "# drop all rows with the 'Logged Out' and the 'Guest' values\n",
    "spark_dataframe = spark_dataframe.filter(spark_dataframe[\"userId\"] != '')"
   ]
  },
  {
   "cell_type": "code",
   "execution_count": 64,
   "metadata": {},
   "outputs": [
    {
     "name": "stdout",
     "output_type": "stream",
     "text": [
      "The count of null values in the column artist = 50046\n",
      "The count of null values in the column length = 50046\n",
      "The count of null values in the column song = 50046\n"
     ]
    }
   ],
   "source": [
    "# checking null values again\n",
    "for column in spark_dataframe.columns:\n",
    "    null_count = spark_dataframe.filter(spark_dataframe[column].isNull()).count()\n",
    "    if null_count != 0:\n",
    "        print(f'The count of null values in the column {column} = {null_count}')"
   ]
  },
  {
   "cell_type": "code",
   "execution_count": 36,
   "metadata": {},
   "outputs": [
    {
     "data": {
      "text/plain": [
       "<matplotlib.axes._subplots.AxesSubplot at 0x7fcd1d76dbe0>"
      ]
     },
     "execution_count": 36,
     "metadata": {},
     "output_type": "execute_result"
    },
    {
     "data": {
      "image/png": "[encoded data removed]",
      "text/plain": [
       "<matplotlib.figure.Figure at 0x7fcd1d37bdd8>"
      ]
     },
     "metadata": {
      "needs_background": "light"
     },
     "output_type": "display_data"
    }
   ],
   "source": [
    "# Auth's values bar plot\n",
    "auth_to_plot = spark_dataframe.select(\"auth\").where(spark_dataframe[\"artist\"].isNull()) \\\n",
    ".groupBy(\"auth\").count().toPandas()\n",
    "sns.barplot(x='auth', y='count', hue='auth', data=auth_to_plot)"
   ]
  },
  {
   "cell_type": "markdown",
   "metadata": {},
   "source": [
    "The most of audit records are the 'Logged In'. We can suppose that users jumped from a page to page.\n",
    "\n",
    "Do a check."
   ]
  },
  {
   "cell_type": "code",
   "execution_count": 46,
   "metadata": {},
   "outputs": [
    {
     "data": {
      "text/plain": [
       "(array([ 0,  1,  2,  3,  4,  5,  6,  7,  8,  9, 10, 11, 12, 13, 14, 15, 16]),\n",
       " <a list of 17 Text xticklabel objects>)"
      ]
     },
     "execution_count": 46,
     "metadata": {},
     "output_type": "execute_result"
    },
    {
     "data": {
      "image/png": "[encoded data removed]",
      "text/plain": [
       "<matplotlib.figure.Figure at 0x7fcd1cd8eb70>"
      ]
     },
     "metadata": {
      "needs_background": "light"
     },
     "output_type": "display_data"
    }
   ],
   "source": [
    "users_jumping = spark_dataframe.select(\"page\").where(spark_dataframe[\"auth\"]== 'Logged In') \\\n",
    ".where(spark_dataframe[\"artist\"].isNull()) \\\n",
    ".groupBy(\"page\").count().toPandas()\n",
    "\n",
    "plt.figure(figsize=(15,7))\n",
    "users_jumping = sns.barplot(x='page', y='count', hue='page', data=users_jumping)\n",
    "plt.xticks(rotation=65, horizontalalignment='right')"
   ]
  },
  {
   "cell_type": "markdown",
   "metadata": {},
   "source": [
    "The plot reveals several users activity. We can drop the rows with the 'Logged In' value, but we could lost some information about users activity."
   ]
  },
  {
   "cell_type": "markdown",
   "metadata": {},
   "source": [
    "# Exploratory Data Analysis\n",
    "\n",
    "\n",
    "### Define Churn"
   ]
  },
  {
   "cell_type": "markdown",
   "metadata": {},
   "source": [
    "Let show one of the rows."
   ]
  },
  {
   "cell_type": "code",
   "execution_count": 14,
   "metadata": {},
   "outputs": [
    {
     "name": "stdout",
     "output_type": "stream",
     "text": [
      "-RECORD 0---------------------------------------------------------------------------------\n",
      " artist        | Martha Tilston                                                           \n",
      " auth          | Logged In                                                                \n",
      " firstName     | Colin                                                                    \n",
      " gender        | M                                                                        \n",
      " itemInSession | 50                                                                       \n",
      " lastName      | Freeman                                                                  \n",
      " length        | 277.89016                                                                \n",
      " level         | paid                                                                     \n",
      " location      | Bakersfield, CA                                                          \n",
      " method        | PUT                                                                      \n",
      " page          | NextSong                                                                 \n",
      " registration  | 1538173362000                                                            \n",
      " sessionId     | 29                                                                       \n",
      " song          | Rockpools                                                                \n",
      " status        | 200                                                                      \n",
      " ts            | 1538352117000                                                            \n",
      " userAgent     | Mozilla/5.0 (Windows NT 6.1; WOW64; rv:31.0) Gecko/20100101 Firefox/31.0 \n",
      " userId        | 30                                                                       \n",
      "only showing top 1 row\n",
      "\n"
     ]
    }
   ],
   "source": [
    "spark_dataframe.show(1, vertical=True, truncate=False)"
   ]
  },
  {
   "cell_type": "markdown",
   "metadata": {},
   "source": [
    "The record display that the user Colin Freeman listened the song Rockpools by Martha Tilston.\n",
    "The dataframe is not a dataset. It is a part of log file. This datafame does not consist of any features could be using for prediction directly.\n",
    "\n",
    "All of the dataframe columns are using to describe a user or a user action."
   ]
  },
  {
   "cell_type": "markdown",
   "metadata": {},
   "source": [
    "We can see the 18th columns in the dataframe and we have to determine which column contains the information about user churn.\n",
    "Actually, the columns listed below include information about:\n",
    "* artist - a singer name or a group name;\n",
    "* firstName - a user first name;\n",
    "* gender - a user gender;\n",
    "* itemInSession - some identificator or count;\n",
    "* lastName - a user last name;\n",
    "* length - in this case a length of a user sessions or a duration of the song;\n",
    "* level - a free or paid account status;\n",
    "* location - a user location;\n",
    "* method - a http method;\n",
    "* registration - a user registraion date;\n",
    "* sessionId - a user session identificatior;\n",
    "* song - a song name;\n",
    "* status - a request status code response;\n",
    "* ts - a user session timestamp;\n",
    "* userAgent - a user browser type;\n",
    "* userId - a user registration identificatior.\n",
    "\n",
    "We have to explore auth and page columns."
   ]
  },
  {
   "cell_type": "code",
   "execution_count": 7,
   "metadata": {},
   "outputs": [
    {
     "data": {
      "text/html": [
       "<table border='1'>\n",
       "<tr><th>auth</th><th>count</th></tr>\n",
       "<tr><td>Cancelled</td><td>52</td></tr>\n",
       "<tr><td>Logged In</td><td>278102</td></tr>\n",
       "</table>\n"
      ],
      "text/plain": [
       "+---------+------+\n",
       "|     auth| count|\n",
       "+---------+------+\n",
       "|Cancelled|    52|\n",
       "|Logged In|278102|\n",
       "+---------+------+"
      ]
     },
     "execution_count": 7,
     "metadata": {},
     "output_type": "execute_result"
    }
   ],
   "source": [
    "# The exact 'auth' values\n",
    "spark_dataframe.select(\"auth\").groupBy(\"auth\").count()"
   ]
  },
  {
   "cell_type": "code",
   "execution_count": 8,
   "metadata": {
    "scrolled": true
   },
   "outputs": [
    {
     "data": {
      "text/plain": [
       "<matplotlib.axes._subplots.AxesSubplot at 0x7f08187db4e0>"
      ]
     },
     "execution_count": 8,
     "metadata": {},
     "output_type": "execute_result"
    },
    {
     "data": {
      "image/png": "[encoded data removed]",
      "text/plain": [
       "<matplotlib.figure.Figure at 0x7f0831553278>"
      ]
     },
     "metadata": {
      "needs_background": "light"
     },
     "output_type": "display_data"
    }
   ],
   "source": [
    "# 'auth's values bar plot\n",
    "auth_to_plot = spark_dataframe.select(\"auth\").groupBy(\"auth\").count().toPandas()\n",
    "sns.barplot(x='auth', y='count', hue='auth', data=auth_to_plot)"
   ]
  },
  {
   "cell_type": "code",
   "execution_count": 24,
   "metadata": {},
   "outputs": [
    {
     "name": "stdout",
     "output_type": "stream",
     "text": [
      "+-------------------------+------+\n",
      "|page                     |count |\n",
      "+-------------------------+------+\n",
      "|Cancel                   |52    |\n",
      "|Submit Downgrade         |63    |\n",
      "|Thumbs Down              |2546  |\n",
      "|Home                     |14457 |\n",
      "|Downgrade                |2055  |\n",
      "|Roll Advert              |3933  |\n",
      "|Logout                   |3226  |\n",
      "|Save Settings            |310   |\n",
      "|Cancellation Confirmation|52    |\n",
      "|About                    |924   |\n",
      "|Submit Registration      |5     |\n",
      "|Settings                 |1514  |\n",
      "|Login                    |3241  |\n",
      "|Register                 |18    |\n",
      "|Add to Playlist          |6526  |\n",
      "|Add Friend               |4277  |\n",
      "|NextSong                 |228108|\n",
      "|Thumbs Up                |12551 |\n",
      "|Help                     |1726  |\n",
      "|Upgrade                  |499   |\n",
      "|Error                    |258   |\n",
      "|Submit Upgrade           |159   |\n",
      "+-------------------------+------+\n",
      "\n"
     ]
    }
   ],
   "source": [
    "# The exact 'page' values\n",
    "spark_dataframe.select(\"page\").groupBy(\"page\").count().show(100, truncate=False)"
   ]
  },
  {
   "cell_type": "code",
   "execution_count": 22,
   "metadata": {},
   "outputs": [
    {
     "data": {
      "text/plain": [
       "(array([ 0,  1,  2,  3,  4,  5,  6,  7,  8,  9, 10, 11]),\n",
       " <a list of 12 Text xticklabel objects>)"
      ]
     },
     "execution_count": 22,
     "metadata": {},
     "output_type": "execute_result"
    },
    {
     "data": {
      "image/png": "[encoded data removed]",
      "text/plain": [
       "<matplotlib.figure.Figure at 0x7fcd1d76b7f0>"
      ]
     },
     "metadata": {
      "needs_background": "light"
     },
     "output_type": "display_data"
    }
   ],
   "source": [
    "# 'page's value bar plot\n",
    "# with visiting count over 1000\n",
    "page_to_plot_above_1000 = spark_dataframe.select(\"page\") \\\n",
    ".groupBy(\"page\").count() \\\n",
    ".where(col(\"count\") > 1000).toPandas() \n",
    "\n",
    "plt.figure(figsize=(15,7))\n",
    "page = sns.barplot(x='page', y='count', hue='page', data=page_to_plot_above_1000)\n",
    "plt.xticks(rotation=65, horizontalalignment='right')"
   ]
  },
  {
   "cell_type": "code",
   "execution_count": 23,
   "metadata": {},
   "outputs": [
    {
     "data": {
      "text/plain": [
       "(array([0, 1, 2, 3, 4, 5, 6, 7, 8, 9]), <a list of 10 Text xticklabel objects>)"
      ]
     },
     "execution_count": 23,
     "metadata": {},
     "output_type": "execute_result"
    },
    {
     "data": {
      "image/png": "[encoded data removed]",
      "text/plain": [
       "<matplotlib.figure.Figure at 0x7fcd1d9ae208>"
      ]
     },
     "metadata": {
      "needs_background": "light"
     },
     "output_type": "display_data"
    }
   ],
   "source": [
    "# 'page's value bar plot\n",
    "# with visiting count less or equal 1000\n",
    "page_to_plot_below_1000 = spark_dataframe.select(\"page\") \\\n",
    ".groupBy(\"page\").count() \\\n",
    ".where(col(\"count\") <= 1000).toPandas() \n",
    "\n",
    "plt.figure(figsize=(15,7))\n",
    "sns.barplot(x='page', y='count', hue='page', data=page_to_plot_below_1000)\n",
    "plt.xticks(rotation=65, horizontalalignment='right')"
   ]
  },
  {
   "cell_type": "markdown",
   "metadata": {},
   "source": [
    "The visiting counts of the 'Cancel' and 'Cancellation Confirmation' are 52. Let show 'userId'."
   ]
  },
  {
   "cell_type": "code",
   "execution_count": 16,
   "metadata": {},
   "outputs": [
    {
     "name": "stdout",
     "output_type": "stream",
     "text": [
      "+---------+------+-------------------------+-----+\n",
      "|auth     |userId|page                     |count|\n",
      "+---------+------+-------------------------+-----+\n",
      "|Cancelled|100001|Cancellation Confirmation|1    |\n",
      "|Cancelled|100003|Cancellation Confirmation|1    |\n",
      "|Cancelled|100005|Cancellation Confirmation|1    |\n",
      "|Cancelled|100006|Cancellation Confirmation|1    |\n",
      "|Cancelled|100007|Cancellation Confirmation|1    |\n",
      "|Cancelled|100009|Cancellation Confirmation|1    |\n",
      "|Cancelled|100011|Cancellation Confirmation|1    |\n",
      "|Cancelled|100012|Cancellation Confirmation|1    |\n",
      "|Cancelled|100013|Cancellation Confirmation|1    |\n",
      "|Cancelled|100014|Cancellation Confirmation|1    |\n",
      "|Cancelled|100015|Cancellation Confirmation|1    |\n",
      "|Cancelled|100017|Cancellation Confirmation|1    |\n",
      "|Cancelled|100019|Cancellation Confirmation|1    |\n",
      "|Cancelled|100021|Cancellation Confirmation|1    |\n",
      "|Cancelled|100022|Cancellation Confirmation|1    |\n",
      "|Cancelled|100023|Cancellation Confirmation|1    |\n",
      "|Cancelled|100024|Cancellation Confirmation|1    |\n",
      "|Cancelled|100025|Cancellation Confirmation|1    |\n",
      "|Cancelled|101   |Cancellation Confirmation|1    |\n",
      "|Cancelled|103   |Cancellation Confirmation|1    |\n",
      "|Cancelled|105   |Cancellation Confirmation|1    |\n",
      "|Cancelled|106   |Cancellation Confirmation|1    |\n",
      "|Cancelled|12    |Cancellation Confirmation|1    |\n",
      "|Cancelled|121   |Cancellation Confirmation|1    |\n",
      "|Cancelled|122   |Cancellation Confirmation|1    |\n",
      "|Cancelled|125   |Cancellation Confirmation|1    |\n",
      "|Cancelled|129   |Cancellation Confirmation|1    |\n",
      "|Cancelled|143   |Cancellation Confirmation|1    |\n",
      "|Cancelled|17    |Cancellation Confirmation|1    |\n",
      "|Cancelled|18    |Cancellation Confirmation|1    |\n",
      "|Cancelled|200001|Cancellation Confirmation|1    |\n",
      "|Cancelled|200011|Cancellation Confirmation|1    |\n",
      "|Cancelled|200015|Cancellation Confirmation|1    |\n",
      "|Cancelled|200016|Cancellation Confirmation|1    |\n",
      "|Cancelled|200017|Cancellation Confirmation|1    |\n",
      "|Cancelled|200018|Cancellation Confirmation|1    |\n",
      "|Cancelled|200020|Cancellation Confirmation|1    |\n",
      "|Cancelled|200021|Cancellation Confirmation|1    |\n",
      "|Cancelled|200024|Cancellation Confirmation|1    |\n",
      "|Cancelled|28    |Cancellation Confirmation|1    |\n",
      "|Cancelled|29    |Cancellation Confirmation|1    |\n",
      "|Cancelled|3     |Cancellation Confirmation|1    |\n",
      "|Cancelled|300001|Cancellation Confirmation|1    |\n",
      "|Cancelled|300007|Cancellation Confirmation|1    |\n",
      "|Cancelled|32    |Cancellation Confirmation|1    |\n",
      "|Cancelled|51    |Cancellation Confirmation|1    |\n",
      "|Cancelled|53    |Cancellation Confirmation|1    |\n",
      "|Cancelled|54    |Cancellation Confirmation|1    |\n",
      "|Cancelled|58    |Cancellation Confirmation|1    |\n",
      "|Cancelled|70    |Cancellation Confirmation|1    |\n",
      "|Cancelled|73    |Cancellation Confirmation|1    |\n",
      "|Cancelled|87    |Cancellation Confirmation|1    |\n",
      "+---------+------+-------------------------+-----+\n",
      "\n"
     ]
    }
   ],
   "source": [
    "spark_dataframe.select(\"auth\", \"userId\", \"page\").filter(spark_dataframe[\"page\"] == \"Cancellation Confirmation\") \\\n",
    ".groupBy(\"auth\", \"userId\", \"page\").count() \\\n",
    ".orderBy(\"userId\").show(1000, truncate=False)"
   ]
  },
  {
   "cell_type": "markdown",
   "metadata": {},
   "source": [
    "All users who visited the 'Cancellation Confirmation' page have being obtained the 'Cancelled' value in the column 'auth'.\n",
    "\n",
    "The 'Cancellation Confirmation' is a label to define churn."
   ]
  },
  {
   "cell_type": "markdown",
   "metadata": {},
   "source": [
    "### Explore Data"
   ]
  },
  {
   "cell_type": "markdown",
   "metadata": {},
   "source": [
    "#### The target column."
   ]
  },
  {
   "cell_type": "markdown",
   "metadata": {},
   "source": [
    "As noted above, the dataframe is a part of logfile.\n",
    "Let aggregate the data.\n",
    "\n",
    "Firstly, we can create a new column with 'Churn'. Our target."
   ]
  },
  {
   "cell_type": "code",
   "execution_count": 5,
   "metadata": {},
   "outputs": [],
   "source": [
    "churn_userId_dataframe = spark_dataframe.select(\"userId\").filter(spark_dataframe[\"auth\"] == \"Cancelled\")\n",
    "churned_users_list = [row['userId'] for row in churn_userId_dataframe.collect()]"
   ]
  },
  {
   "cell_type": "code",
   "execution_count": 6,
   "metadata": {},
   "outputs": [],
   "source": [
    "# creating function to apply it on dataframe\n",
    "isChurn = udf(lambda x: 1 if x in churned_users_list else 0, IntegerType())\n",
    "spark_dataframe = spark_dataframe.withColumn('isChurn', isChurn(\"userId\"))"
   ]
  },
  {
   "cell_type": "code",
   "execution_count": 7,
   "metadata": {},
   "outputs": [
    {
     "data": {
      "text/plain": [
       "<matplotlib.axes._subplots.AxesSubplot at 0x7f1fe660abe0>"
      ]
     },
     "execution_count": 7,
     "metadata": {},
     "output_type": "execute_result"
    },
    {
     "data": {
      "image/png": "[encoded data removed]",
      "text/plain": [
       "<matplotlib.figure.Figure at 0x7f201b3b7be0>"
      ]
     },
     "metadata": {
      "needs_background": "light"
     },
     "output_type": "display_data"
    }
   ],
   "source": [
    "# plotting the result of applying function\n",
    "userId_to_plot = spark_dataframe.dropDuplicates([\"userId\",\"isChurn\"]) \\\n",
    ".groupby([\"isChurn\"]).count().toPandas()\n",
    "sns.barplot(x=\"isChurn\", y=\"count\", hue=\"isChurn\", data=userId_to_plot)"
   ]
  },
  {
   "cell_type": "code",
   "execution_count": 9,
   "metadata": {},
   "outputs": [
    {
     "data": {
      "text/html": [
       "<table border='1'>\n",
       "<tr><th>gender</th><th>isChurn</th><th>count</th></tr>\n",
       "<tr><td>M</td><td>1</td><td>32</td></tr>\n",
       "<tr><td>F</td><td>0</td><td>84</td></tr>\n",
       "<tr><td>F</td><td>1</td><td>20</td></tr>\n",
       "<tr><td>M</td><td>0</td><td>89</td></tr>\n",
       "</table>\n"
      ],
      "text/plain": [
       "+------+-------+-----+\n",
       "|gender|isChurn|count|\n",
       "+------+-------+-----+\n",
       "|     M|      1|   32|\n",
       "|     F|      0|   84|\n",
       "|     F|      1|   20|\n",
       "|     M|      0|   89|\n",
       "+------+-------+-----+"
      ]
     },
     "execution_count": 9,
     "metadata": {},
     "output_type": "execute_result"
    }
   ],
   "source": [
    "spark_dataframe.dropDuplicates([\"userId\",\"isChurn\"]) \\\n",
    ".groupby([\"gender\", \"isChurn\"]).count()"
   ]
  },
  {
   "cell_type": "code",
   "execution_count": 7,
   "metadata": {},
   "outputs": [
    {
     "data": {
      "text/html": [
       "<table border='1'>\n",
       "<tr><th>isChurn</th><th>count</th></tr>\n",
       "<tr><td>1</td><td>52</td></tr>\n",
       "<tr><td>0</td><td>278102</td></tr>\n",
       "</table>\n"
      ],
      "text/plain": [
       "+-------+------+\n",
       "|isChurn| count|\n",
       "+-------+------+\n",
       "|      1|    52|\n",
       "|      0|278102|\n",
       "+-------+------+"
      ]
     },
     "execution_count": 7,
     "metadata": {},
     "output_type": "execute_result"
    }
   ],
   "source": [
    "# the exact 'isChurn' values\n",
    "spark_dataframe.select(\"isChurn\").groupBy(\"isChurn\").count()"
   ]
  },
  {
   "cell_type": "markdown",
   "metadata": {},
   "source": [
    "#### Users count"
   ]
  },
  {
   "cell_type": "markdown",
   "metadata": {},
   "source": [
    "Next step is to calculate the distinct users in the dataframe."
   ]
  },
  {
   "cell_type": "code",
   "execution_count": 32,
   "metadata": {},
   "outputs": [
    {
     "data": {
      "text/plain": [
       "225"
      ]
     },
     "execution_count": 32,
     "metadata": {},
     "output_type": "execute_result"
    }
   ],
   "source": [
    "spark_dataframe.select(\"userId\").distinct().count()"
   ]
  },
  {
   "cell_type": "markdown",
   "metadata": {},
   "source": [
    "#### Explore the 'gender' column."
   ]
  },
  {
   "cell_type": "markdown",
   "metadata": {},
   "source": [
    "Now, the 'gender' column."
   ]
  },
  {
   "cell_type": "code",
   "execution_count": 10,
   "metadata": {},
   "outputs": [
    {
     "data": {
      "text/plain": [
       "<matplotlib.axes._subplots.AxesSubplot at 0x7f6042a64390>"
      ]
     },
     "execution_count": 10,
     "metadata": {},
     "output_type": "execute_result"
    },
    {
     "data": {
      "image/png": "[encoded data removed]",
      "text/plain": [
       "<matplotlib.figure.Figure at 0x7f6042a64b70>"
      ]
     },
     "metadata": {
      "needs_background": "light"
     },
     "output_type": "display_data"
    }
   ],
   "source": [
    "# plotting a gender of all the distinct users\n",
    "gender_to_plot = spark_dataframe.select(\"userId\", \"gender\", \"isChurn\").distinct() \\\n",
    ".groupby(['gender','isChurn']).count().toPandas()\n",
    "sns.barplot(x=\"isChurn\", y=\"count\", hue=\"gender\", data=gender_to_plot)"
   ]
  },
  {
   "cell_type": "code",
   "execution_count": 11,
   "metadata": {},
   "outputs": [
    {
     "data": {
      "text/html": [
       "<table border='1'>\n",
       "<tr><th>gender</th><th>isChurn</th><th>count</th></tr>\n",
       "<tr><td>M</td><td>1</td><td>32</td></tr>\n",
       "<tr><td>F</td><td>0</td><td>84</td></tr>\n",
       "<tr><td>F</td><td>1</td><td>20</td></tr>\n",
       "<tr><td>M</td><td>0</td><td>89</td></tr>\n",
       "</table>\n"
      ],
      "text/plain": [
       "+------+-------+-----+\n",
       "|gender|isChurn|count|\n",
       "+------+-------+-----+\n",
       "|     M|      1|   32|\n",
       "|     F|      0|   84|\n",
       "|     F|      1|   20|\n",
       "|     M|      0|   89|\n",
       "+------+-------+-----+"
      ]
     },
     "execution_count": 11,
     "metadata": {},
     "output_type": "execute_result"
    }
   ],
   "source": [
    "# the exact 'gender' values\n",
    "spark_dataframe.select(\"userId\", \"gender\", \"isChurn\").distinct().groupby(['gender','isChurn']).count()"
   ]
  },
  {
   "cell_type": "markdown",
   "metadata": {},
   "source": [
    "The 'gender' column has categorical data. The values are 'F' and 'M', female and male respectively."
   ]
  },
  {
   "cell_type": "markdown",
   "metadata": {},
   "source": [
    "#### Explore the 'level' column"
   ]
  },
  {
   "cell_type": "code",
   "execution_count": 12,
   "metadata": {},
   "outputs": [
    {
     "data": {
      "text/plain": [
       "<matplotlib.axes._subplots.AxesSubplot at 0x7f6040098ef0>"
      ]
     },
     "execution_count": 12,
     "metadata": {},
     "output_type": "execute_result"
    },
    {
     "data": {
      "image/png": "[encoded data removed]",
      "text/plain": [
       "<matplotlib.figure.Figure at 0x7f60400989b0>"
      ]
     },
     "metadata": {
      "needs_background": "light"
     },
     "output_type": "display_data"
    }
   ],
   "source": [
    "level_to_plot = spark_dataframe.select(\"userId\", \"level\", \"isChurn\").distinct() \\\n",
    ".groupby(['level','isChurn']).count().toPandas()\n",
    "sns.barplot(x=\"isChurn\", y=\"count\", hue=\"level\", data=level_to_plot)"
   ]
  },
  {
   "cell_type": "markdown",
   "metadata": {},
   "source": [
    "The 'level' column has categorical data. The values are 'paid' and 'free'."
   ]
  },
  {
   "cell_type": "markdown",
   "metadata": {},
   "source": [
    "We have a problem. As we remember the total count of users is 225.\n",
    "\n",
    "The plot shows the grouped data by the 'level' column and all user's count more than 225.\n",
    "Out dataframe is a log file. Each user could change his(er) account to paid or free more than once.\n",
    "We have to group the data in the 'level' column and select the records with the maximum timestamp."
   ]
  },
  {
   "cell_type": "code",
   "execution_count": 7,
   "metadata": {},
   "outputs": [],
   "source": [
    "# create an additional dataframe consisted of the distinct 'userId' values and the maximum timestamp for each user.\n",
    "max_ts_dataframe = spark_dataframe.groupby(\"userId\").agg({\"ts\": \"max\"}).orderBy(\"userId\")\n",
    "\n",
    "# create a conditional to join the max_ts_dataframe and the spark_dataframe\n",
    "conditional = [spark_dataframe[\"ts\"] == max_ts_dataframe[\"max(ts)\"],\n",
    "               spark_dataframe[\"userId\"] == max_ts_dataframe[\"userId\"]]\n",
    "\n",
    "# join out dataframes to create a dataframe with the maximum timestamps.\n",
    "level_with_max_ts_dataframe = spark_dataframe.join(max_ts_dataframe, conditional, 'leftsemi')"
   ]
  },
  {
   "cell_type": "code",
   "execution_count": 15,
   "metadata": {},
   "outputs": [
    {
     "data": {
      "text/plain": [
       "<matplotlib.axes._subplots.AxesSubplot at 0x7f603bfc9f60>"
      ]
     },
     "execution_count": 15,
     "metadata": {},
     "output_type": "execute_result"
    },
    {
     "data": {
      "image/png": "[encoded data removed]",
      "text/plain": [
       "<matplotlib.figure.Figure at 0x7f6040098748>"
      ]
     },
     "metadata": {
      "needs_background": "light"
     },
     "output_type": "display_data"
    }
   ],
   "source": [
    "# ploting the grouped 'level' agian\n",
    "level_to_plot = level_with_max_ts_dataframe \\\n",
    ".select(\"userId\", \"level\", \"isChurn\").distinct() \\\n",
    ".groupby(['level','isChurn']).count().toPandas()\n",
    "\n",
    "sns.barplot(x=\"isChurn\", y=\"count\", hue=\"level\", data=level_to_plot)"
   ]
  },
  {
   "cell_type": "code",
   "execution_count": 25,
   "metadata": {},
   "outputs": [
    {
     "data": {
      "text/plain": [
       "(227, 19)"
      ]
     },
     "execution_count": 25,
     "metadata": {},
     "output_type": "execute_result"
    }
   ],
   "source": [
    "# check the exact grouped 'level'\n",
    "level_with_max_ts_dataframe.toPandas().shape"
   ]
  },
  {
   "cell_type": "markdown",
   "metadata": {},
   "source": [
    "Rows (distinct users) count is 227, not 225."
   ]
  },
  {
   "cell_type": "code",
   "execution_count": 17,
   "metadata": {},
   "outputs": [
    {
     "data": {
      "text/html": [
       "<table border='1'>\n",
       "<tr><th>userId</th><th>ts</th><th>count</th></tr>\n",
       "<tr><td>125</td><td>1539318918000</td><td>2</td></tr>\n",
       "<tr><td>127</td><td>1543351229000</td><td>2</td></tr>\n",
       "</table>\n"
      ],
      "text/plain": [
       "+------+-------------+-----+\n",
       "|userId|           ts|count|\n",
       "+------+-------------+-----+\n",
       "|   125|1539318918000|    2|\n",
       "|   127|1543351229000|    2|\n",
       "+------+-------------+-----+"
      ]
     },
     "execution_count": 17,
     "metadata": {},
     "output_type": "execute_result"
    }
   ],
   "source": [
    "# inspect duplicates timestamps\n",
    "level_with_max_ts_dataframe.select(\"userId\", 'ts') \\\n",
    ".groupBy(\"userId\", 'ts').count().where(col(\"count\") > 1)"
   ]
  },
  {
   "cell_type": "code",
   "execution_count": 13,
   "metadata": {},
   "outputs": [
    {
     "data": {
      "text/html": [
       "<table border='1'>\n",
       "<tr><th>userId</th><th>page</th><th>ts</th></tr>\n",
       "<tr><td>125</td><td>Cancel</td><td>1539318918000</td></tr>\n",
       "<tr><td>125</td><td>Cancellation Conf...</td><td>1539318918000</td></tr>\n",
       "</table>\n"
      ],
      "text/plain": [
       "+------+--------------------+-------------+\n",
       "|userId|                page|           ts|\n",
       "+------+--------------------+-------------+\n",
       "|   125|              Cancel|1539318918000|\n",
       "|   125|Cancellation Conf...|1539318918000|\n",
       "+------+--------------------+-------------+"
      ]
     },
     "execution_count": 13,
     "metadata": {},
     "output_type": "execute_result"
    }
   ],
   "source": [
    "level_with_max_ts_dataframe.select(\"userId\", \"page\", \"ts\") \\\n",
    ".where(col(\"userId\") == 125)"
   ]
  },
  {
   "cell_type": "code",
   "execution_count": 14,
   "metadata": {},
   "outputs": [
    {
     "data": {
      "text/html": [
       "<table border='1'>\n",
       "<tr><th>userId</th><th>page</th><th>ts</th></tr>\n",
       "<tr><td>127</td><td>NextSong</td><td>1543351229000</td></tr>\n",
       "<tr><td>127</td><td>Home</td><td>1543351229000</td></tr>\n",
       "</table>\n"
      ],
      "text/plain": [
       "+------+--------+-------------+\n",
       "|userId|    page|           ts|\n",
       "+------+--------+-------------+\n",
       "|   127|NextSong|1543351229000|\n",
       "|   127|    Home|1543351229000|\n",
       "+------+--------+-------------+"
      ]
     },
     "execution_count": 14,
     "metadata": {},
     "output_type": "execute_result"
    }
   ],
   "source": [
    "level_with_max_ts_dataframe.select(\"userId\", \"page\", \"ts\") \\\n",
    ".where(col(\"userId\") == 127)"
   ]
  },
  {
   "cell_type": "markdown",
   "metadata": {},
   "source": [
    "The user's with Id 125 and 127 performed two actions at the same time. The timestamps are identical. In respect that we have only two users, we should not consider them."
   ]
  },
  {
   "cell_type": "markdown",
   "metadata": {},
   "source": [
    "#### Explore the 'page' column"
   ]
  },
  {
   "cell_type": "code",
   "execution_count": 24,
   "metadata": {},
   "outputs": [
    {
     "name": "stdout",
     "output_type": "stream",
     "text": [
      "+-------------------------+------+\n",
      "|page                     |count |\n",
      "+-------------------------+------+\n",
      "|Cancel                   |52    |\n",
      "|Submit Downgrade         |63    |\n",
      "|Thumbs Down              |2546  |\n",
      "|Home                     |10082 |\n",
      "|Downgrade                |2055  |\n",
      "|Roll Advert              |3933  |\n",
      "|Logout                   |3226  |\n",
      "|Save Settings            |310   |\n",
      "|Cancellation Confirmation|52    |\n",
      "|About                    |495   |\n",
      "|Settings                 |1514  |\n",
      "|Add to Playlist          |6526  |\n",
      "|Add Friend               |4277  |\n",
      "|NextSong                 |228108|\n",
      "|Thumbs Up                |12551 |\n",
      "|Help                     |1454  |\n",
      "|Upgrade                  |499   |\n",
      "|Error                    |252   |\n",
      "|Submit Upgrade           |159   |\n",
      "+-------------------------+------+\n",
      "\n"
     ]
    }
   ],
   "source": [
    "# the exact 'page' values\n",
    "spark_dataframe.select(\"page\").groupBy(\"page\").count().show(100, truncate=False)"
   ]
  },
  {
   "cell_type": "markdown",
   "metadata": {},
   "source": [
    "The users visited the different pages. Not all of the visited pages influence on the user desicion to churn. Let create a list with the pages affected on the desicion."
   ]
  },
  {
   "cell_type": "code",
   "execution_count": 22,
   "metadata": {
    "scrolled": true
   },
   "outputs": [
    {
     "data": {
      "text/plain": [
       "<matplotlib.axes._subplots.AxesSubplot at 0x7f603b7f6da0>"
      ]
     },
     "execution_count": 22,
     "metadata": {},
     "output_type": "execute_result"
    },
    {
     "data": {
      "image/png": "[encoded data removed]",
      "text/plain": [
       "<matplotlib.figure.Figure at 0x7f603b898be0>"
      ]
     },
     "metadata": {
      "needs_background": "light"
     },
     "output_type": "display_data"
    }
   ],
   "source": [
    "pages_list = ['Submit Downgrade', 'Thumbs Down', 'Save Settings',\n",
    "             'Add to Playlist', 'Add Friend', 'Thumbs Up', 'Submit Upgrade']\n",
    "\n",
    "significant_pages_to_plot = spark_dataframe.select(\"page\").filter(col(\"page\").isin(pages_list)) \\\n",
    ".groupBy(\"page\").count().toPandas()\n",
    "\n",
    "plt.figure(figsize=(15,4))\n",
    "sns.barplot(x=\"page\", y=\"count\", hue=\"page\", data=significant_pages_to_plot)"
   ]
  },
  {
   "cell_type": "code",
   "execution_count": 26,
   "metadata": {},
   "outputs": [
    {
     "data": {
      "text/html": [
       "<table border='1'>\n",
       "<tr><th>page</th><th>isChurn</th><th>count</th></tr>\n",
       "<tr><td>Add Friend</td><td>0</td><td>3641</td></tr>\n",
       "<tr><td>Add Friend</td><td>1</td><td>636</td></tr>\n",
       "<tr><td>Add to Playlist</td><td>0</td><td>5488</td></tr>\n",
       "<tr><td>Add to Playlist</td><td>1</td><td>1038</td></tr>\n",
       "<tr><td>Save Settings</td><td>0</td><td>252</td></tr>\n",
       "<tr><td>Save Settings</td><td>1</td><td>58</td></tr>\n",
       "<tr><td>Submit Downgrade</td><td>0</td><td>54</td></tr>\n",
       "<tr><td>Submit Downgrade</td><td>1</td><td>9</td></tr>\n",
       "<tr><td>Submit Upgrade</td><td>0</td><td>127</td></tr>\n",
       "<tr><td>Submit Upgrade</td><td>1</td><td>32</td></tr>\n",
       "<tr><td>Thumbs Down</td><td>0</td><td>2050</td></tr>\n",
       "<tr><td>Thumbs Down</td><td>1</td><td>496</td></tr>\n",
       "<tr><td>Thumbs Up</td><td>0</td><td>10692</td></tr>\n",
       "<tr><td>Thumbs Up</td><td>1</td><td>1859</td></tr>\n",
       "</table>\n"
      ],
      "text/plain": [
       "+----------------+-------+-----+\n",
       "|            page|isChurn|count|\n",
       "+----------------+-------+-----+\n",
       "|      Add Friend|      0| 3641|\n",
       "|      Add Friend|      1|  636|\n",
       "| Add to Playlist|      0| 5488|\n",
       "| Add to Playlist|      1| 1038|\n",
       "|   Save Settings|      0|  252|\n",
       "|   Save Settings|      1|   58|\n",
       "|Submit Downgrade|      0|   54|\n",
       "|Submit Downgrade|      1|    9|\n",
       "|  Submit Upgrade|      0|  127|\n",
       "|  Submit Upgrade|      1|   32|\n",
       "|     Thumbs Down|      0| 2050|\n",
       "|     Thumbs Down|      1|  496|\n",
       "|       Thumbs Up|      0|10692|\n",
       "|       Thumbs Up|      1| 1859|\n",
       "+----------------+-------+-----+"
      ]
     },
     "execution_count": 26,
     "metadata": {},
     "output_type": "execute_result"
    }
   ],
   "source": [
    "# the exat values of the pages affected on the desicion\n",
    "spark_dataframe.select(\"page\", 'isChurn').filter(col(\"page\").isin(pages_list)) \\\n",
    ".groupBy(\"page\", \"isChurn\").count().orderBy(\"page\", \"isChurn\")"
   ]
  },
  {
   "cell_type": "markdown",
   "metadata": {},
   "source": [
    "The users did not cancel a subscription visited more times the pages 'Add Friend', 'Add to Playlist', 'Save Settings', 'Submit Upgrade', 'Thumbs Up'."
   ]
  },
  {
   "cell_type": "markdown",
   "metadata": {},
   "source": [
    "#### Explore the userAgent' column."
   ]
  },
  {
   "cell_type": "markdown",
   "metadata": {},
   "source": [
    "This column describe a browser using to read the pages. We can calculate the distinct browsers."
   ]
  },
  {
   "cell_type": "code",
   "execution_count": 28,
   "metadata": {},
   "outputs": [
    {
     "data": {
      "text/plain": [
       "56"
      ]
     },
     "execution_count": 28,
     "metadata": {},
     "output_type": "execute_result"
    }
   ],
   "source": [
    "spark_dataframe.select(\"userAgent\").distinct().count()"
   ]
  },
  {
   "cell_type": "markdown",
   "metadata": {},
   "source": [
    "Listing a few of them."
   ]
  },
  {
   "cell_type": "code",
   "execution_count": 44,
   "metadata": {},
   "outputs": [
    {
     "name": "stdout",
     "output_type": "stream",
     "text": [
      "+--------------------+\n",
      "|           userAgent|\n",
      "+--------------------+\n",
      "|\"Mozilla/5.0 (Mac...|\n",
      "|\"Mozilla/5.0 (Win...|\n",
      "|Mozilla/5.0 (X11;...|\n",
      "|\"Mozilla/5.0 (Mac...|\n",
      "|\"Mozilla/5.0 (Mac...|\n",
      "+--------------------+\n",
      "only showing top 5 rows\n",
      "\n"
     ]
    }
   ],
   "source": [
    "spark_dataframe.select(\"userAgent\").distinct().show(5)"
   ]
  },
  {
   "cell_type": "markdown",
   "metadata": {},
   "source": [
    "#### Explore the 'location' column."
   ]
  },
  {
   "cell_type": "markdown",
   "metadata": {},
   "source": [
    "The column consist of the information about user location durin the user session."
   ]
  },
  {
   "cell_type": "code",
   "execution_count": 45,
   "metadata": {},
   "outputs": [
    {
     "data": {
      "text/plain": [
       "114"
      ]
     },
     "execution_count": 45,
     "metadata": {},
     "output_type": "execute_result"
    }
   ],
   "source": [
    "spark_dataframe.select(\"location\").distinct().count()"
   ]
  },
  {
   "cell_type": "markdown",
   "metadata": {},
   "source": [
    "Total users location is 114."
   ]
  },
  {
   "cell_type": "code",
   "execution_count": 47,
   "metadata": {},
   "outputs": [
    {
     "name": "stdout",
     "output_type": "stream",
     "text": [
      "+------------------------------+\n",
      "|location                      |\n",
      "+------------------------------+\n",
      "|Bakersfield, CA               |\n",
      "|Boston-Cambridge-Newton, MA-NH|\n",
      "|Bakersfield, CA               |\n",
      "|Boston-Cambridge-Newton, MA-NH|\n",
      "|Bakersfield, CA               |\n",
      "+------------------------------+\n",
      "only showing top 5 rows\n",
      "\n"
     ]
    }
   ],
   "source": [
    "spark_dataframe.select(\"location\").show(5, truncate=False)"
   ]
  },
  {
   "cell_type": "markdown",
   "metadata": {},
   "source": [
    "#### Explore the 'method' column."
   ]
  },
  {
   "cell_type": "markdown",
   "metadata": {},
   "source": [
    "This column has categorical data of two http methods 'PUT' and 'GET'."
   ]
  },
  {
   "cell_type": "code",
   "execution_count": 48,
   "metadata": {},
   "outputs": [
    {
     "data": {
      "text/plain": [
       "<matplotlib.axes._subplots.AxesSubplot at 0x7f603b6e9b38>"
      ]
     },
     "execution_count": 48,
     "metadata": {},
     "output_type": "execute_result"
    },
    {
     "data": {
      "image/png": "[encoded data removed]",
      "text/plain": [
       "<matplotlib.figure.Figure at 0x7f603b7e8160>"
      ]
     },
     "metadata": {
      "needs_background": "light"
     },
     "output_type": "display_data"
    }
   ],
   "source": [
    "# plotting the 'method' values\n",
    "sns.countplot(x='method', hue='isChurn', data=spark_dataframe.toPandas())"
   ]
  },
  {
   "cell_type": "code",
   "execution_count": 53,
   "metadata": {},
   "outputs": [
    {
     "data": {
      "text/html": [
       "<table border='1'>\n",
       "<tr><th>method</th><th>isChurn</th><th>count</th></tr>\n",
       "<tr><td>GET</td><td>0</td><td>16599</td></tr>\n",
       "<tr><td>GET</td><td>1</td><td>3737</td></tr>\n",
       "<tr><td>PUT</td><td>0</td><td>216691</td></tr>\n",
       "<tr><td>PUT</td><td>1</td><td>41127</td></tr>\n",
       "</table>\n"
      ],
      "text/plain": [
       "+------+-------+------+\n",
       "|method|isChurn| count|\n",
       "+------+-------+------+\n",
       "|   GET|      0| 16599|\n",
       "|   GET|      1|  3737|\n",
       "|   PUT|      0|216691|\n",
       "|   PUT|      1| 41127|\n",
       "+------+-------+------+"
      ]
     },
     "execution_count": 53,
     "metadata": {},
     "output_type": "execute_result"
    }
   ],
   "source": [
    "# the exact 'method' values\n",
    "spark_dataframe.select(\"method\", \"isChurn\").groupBy(\"method\", \"isChurn\").count() \\\n",
    ".orderBy(\"method\", \"isChurn\")"
   ]
  },
  {
   "cell_type": "markdown",
   "metadata": {},
   "source": [
    "#### Explore the 'status' column."
   ]
  },
  {
   "cell_type": "markdown",
   "metadata": {},
   "source": [
    "The column consisted of the categorical data too. There are the request status codes in the column."
   ]
  },
  {
   "cell_type": "code",
   "execution_count": 51,
   "metadata": {},
   "outputs": [
    {
     "data": {
      "text/plain": [
       "<matplotlib.axes._subplots.AxesSubplot at 0x7f603822de48>"
      ]
     },
     "execution_count": 51,
     "metadata": {},
     "output_type": "execute_result"
    },
    {
     "data": {
      "image/png": "[encoded data removed]",
      "text/plain": [
       "<matplotlib.figure.Figure at 0x7f604007fcf8>"
      ]
     },
     "metadata": {
      "needs_background": "light"
     },
     "output_type": "display_data"
    }
   ],
   "source": [
    "# plotting the 'status' values\n",
    "sns.countplot(x='status', hue='isChurn', data=spark_dataframe.toPandas())"
   ]
  },
  {
   "cell_type": "code",
   "execution_count": 55,
   "metadata": {},
   "outputs": [
    {
     "data": {
      "text/html": [
       "<table border='1'>\n",
       "<tr><th>status</th><th>isChurn</th><th>count</th></tr>\n",
       "<tr><td>200</td><td>0</td><td>213581</td></tr>\n",
       "<tr><td>200</td><td>1</td><td>41137</td></tr>\n",
       "<tr><td>307</td><td>0</td><td>19489</td></tr>\n",
       "<tr><td>307</td><td>1</td><td>3695</td></tr>\n",
       "<tr><td>404</td><td>0</td><td>220</td></tr>\n",
       "<tr><td>404</td><td>1</td><td>32</td></tr>\n",
       "</table>\n"
      ],
      "text/plain": [
       "+------+-------+------+\n",
       "|status|isChurn| count|\n",
       "+------+-------+------+\n",
       "|   200|      0|213581|\n",
       "|   200|      1| 41137|\n",
       "|   307|      0| 19489|\n",
       "|   307|      1|  3695|\n",
       "|   404|      0|   220|\n",
       "|   404|      1|    32|\n",
       "+------+-------+------+"
      ]
     },
     "execution_count": 55,
     "metadata": {},
     "output_type": "execute_result"
    }
   ],
   "source": [
    "# the exact 'status' values\n",
    "spark_dataframe.select(\"status\", \"isChurn\").groupBy(\"status\", \"isChurn\").count() \\\n",
    ".orderBy(\"status\", \"isChurn\")"
   ]
  },
  {
   "cell_type": "markdown",
   "metadata": {},
   "source": [
    "#### Explore columns 'registration' and 'ts'."
   ]
  },
  {
   "cell_type": "markdown",
   "metadata": {},
   "source": [
    "The columns have the timestamps data. Column 'registration' is the date of users registration. Column 'ts' is the date of users sessions."
   ]
  },
  {
   "cell_type": "code",
   "execution_count": 57,
   "metadata": {},
   "outputs": [
    {
     "name": "stdout",
     "output_type": "stream",
     "text": [
      "+------+-------------+\n",
      "|userId|           ts|\n",
      "+------+-------------+\n",
      "|    30|1538352117000|\n",
      "|     9|1538352180000|\n",
      "|    30|1538352394000|\n",
      "|     9|1538352416000|\n",
      "|    30|1538352676000|\n",
      "+------+-------------+\n",
      "only showing top 5 rows\n",
      "\n"
     ]
    }
   ],
   "source": [
    "spark_dataframe.select(\"userId\", \"ts\").show(5)"
   ]
  },
  {
   "cell_type": "code",
   "execution_count": 58,
   "metadata": {},
   "outputs": [
    {
     "name": "stdout",
     "output_type": "stream",
     "text": [
      "+------+-------------+\n",
      "|userId| registration|\n",
      "+------+-------------+\n",
      "|    30|1538173362000|\n",
      "|     9|1538331630000|\n",
      "|    30|1538173362000|\n",
      "|     9|1538331630000|\n",
      "|    30|1538173362000|\n",
      "+------+-------------+\n",
      "only showing top 5 rows\n",
      "\n"
     ]
    }
   ],
   "source": [
    "spark_dataframe.select(\"userId\", \"registration\").show(5)"
   ]
  },
  {
   "cell_type": "markdown",
   "metadata": {},
   "source": [
    "#### Explore columns 'artist' and 'song'."
   ]
  },
  {
   "cell_type": "markdown",
   "metadata": {},
   "source": [
    "These columns have information about songs and artists."
   ]
  },
  {
   "cell_type": "code",
   "execution_count": 59,
   "metadata": {},
   "outputs": [
    {
     "data": {
      "text/plain": [
       "17656"
      ]
     },
     "execution_count": 59,
     "metadata": {},
     "output_type": "execute_result"
    }
   ],
   "source": [
    "spark_dataframe.select(\"artist\").distinct().count()"
   ]
  },
  {
   "cell_type": "code",
   "execution_count": 60,
   "metadata": {},
   "outputs": [
    {
     "data": {
      "text/plain": [
       "58481"
      ]
     },
     "execution_count": 60,
     "metadata": {},
     "output_type": "execute_result"
    }
   ],
   "source": [
    "spark_dataframe.select(\"song\").distinct().count()"
   ]
  },
  {
   "cell_type": "markdown",
   "metadata": {},
   "source": [
    "The columng have too many different values."
   ]
  },
  {
   "cell_type": "markdown",
   "metadata": {},
   "source": [
    "# Feature Engineering\n",
    "Once you've familiarized yourself with the data, build out the features you find promising to train your model on. To work with the full dataset, you can follow the following steps.\n",
    "- Write a script to extract the necessary features from the smaller subset of data\n",
    "- Ensure that your script is scalable, using the best practices discussed in Lesson 3\n",
    "- Try your script on the full data set, debugging your script if necessary\n",
    "\n",
    "If you are working in the classroom workspace, you can just extract features based on the small subset of data contained here. Be sure to transfer over this work to the larger dataset when you work on your Spark cluster."
   ]
  },
  {
   "cell_type": "markdown",
   "metadata": {},
   "source": [
    "Create a dataframe with unique users record."
   ]
  },
  {
   "cell_type": "code",
   "execution_count": 8,
   "metadata": {},
   "outputs": [],
   "source": [
    "churn_dataframe = level_with_max_ts_dataframe.select(\"userId\", \"gender\", \"level\", \"isChurn\").dropDuplicates()"
   ]
  },
  {
   "cell_type": "markdown",
   "metadata": {},
   "source": [
    "#### Categorical features handling."
   ]
  },
  {
   "cell_type": "markdown",
   "metadata": {},
   "source": [
    "Create two column to handle the catecorical values in the 'gender' column."
   ]
  },
  {
   "cell_type": "code",
   "execution_count": 9,
   "metadata": {},
   "outputs": [],
   "source": [
    "# create isMale column\n",
    "isMale = udf(lambda x: 1 if x =='M' else 0, IntegerType())\n",
    "churn_dataframe = churn_dataframe.withColumn('isMale', isMale(\"gender\"))\n",
    "\n",
    "# create isFemale column\n",
    "isFemale = udf(lambda x: 1 if x =='F' else 0, IntegerType())\n",
    "churn_dataframe = churn_dataframe.withColumn('isFemale', isFemale(\"gender\"))"
   ]
  },
  {
   "cell_type": "markdown",
   "metadata": {},
   "source": [
    "The 'level' column has a catecorical feature too. Handle it."
   ]
  },
  {
   "cell_type": "code",
   "execution_count": 10,
   "metadata": {},
   "outputs": [],
   "source": [
    "# create isPaid column\n",
    "isPaid = udf(lambda x: 1 if x == 'paid' else 0, IntegerType())\n",
    "churn_dataframe = churn_dataframe.withColumn('isPaid', isPaid(\"level\"))\n",
    "\n",
    "# create isFree column\n",
    "isFree = udf(lambda x: 1 if x =='free' else 0, IntegerType())\n",
    "churn_dataframe = churn_dataframe.withColumn('isFree', isFree(\"level\"))"
   ]
  },
  {
   "cell_type": "markdown",
   "metadata": {},
   "source": [
    "#### Numerical features."
   ]
  },
  {
   "cell_type": "markdown",
   "metadata": {},
   "source": [
    "Each user has different count of listened song, completed sessions. "
   ]
  },
  {
   "cell_type": "code",
   "execution_count": 52,
   "metadata": {},
   "outputs": [
    {
     "name": "stdout",
     "output_type": "stream",
     "text": [
      "+------+-------+-----------+\n",
      "|userId|isChurn|count(song)|\n",
      "+------+-------+-----------+\n",
      "|    10|      0|        673|\n",
      "|   100|      0|       2682|\n",
      "|100001|      1|        133|\n",
      "|100002|      0|        195|\n",
      "|100003|      1|         51|\n",
      "+------+-------+-----------+\n",
      "only showing top 5 rows\n",
      "\n"
     ]
    }
   ],
   "source": [
    "spark_dataframe.select(\"userId\", \"song\", \"isChurn\") \\\n",
    ".groupBy(\"userId\", \"isChurn\").agg({\"song\": \"count\"}) \\\n",
    ".orderBy(\"userId\").show(5)"
   ]
  },
  {
   "cell_type": "code",
   "execution_count": 54,
   "metadata": {},
   "outputs": [
    {
     "name": "stdout",
     "output_type": "stream",
     "text": [
      "+------+-------+----------------+\n",
      "|userId|isChurn|count(sessionId)|\n",
      "+------+-------+----------------+\n",
      "|    10|      0|               6|\n",
      "|   100|      0|              35|\n",
      "|100001|      1|               4|\n",
      "|100002|      0|               4|\n",
      "|100003|      1|               2|\n",
      "+------+-------+----------------+\n",
      "only showing top 5 rows\n",
      "\n"
     ]
    }
   ],
   "source": [
    "spark_dataframe.select(\"userId\", \"sessionId\", \"isChurn\").distinct() \\\n",
    ".groupBy(\"userId\", \"isChurn\").agg({\"sessionId\": \"count\"}) \\\n",
    ".orderBy(\"userId\").show(5)"
   ]
  },
  {
   "cell_type": "markdown",
   "metadata": {},
   "source": [
    "We should create columns contained of users listened songs and completed sessions. These columns describe the users activity. We can call the columns as the first part users activity."
   ]
  },
  {
   "cell_type": "code",
   "execution_count": 11,
   "metadata": {},
   "outputs": [],
   "source": [
    "# creating a pandas dataframe with count of songs listened by users\n",
    "users_songs = spark_dataframe.filter(spark_dataframe[\"song\"].isNotNull()) \\\n",
    ".select(\"userId\", \"song\").groupBy(\"userId\").count().orderBy(\"userId\").toPandas()\n",
    "\n",
    "# creatting a pandas dataframe with count of users sessions\n",
    "users_sessions = spark_dataframe.select(\"userId\", \"sessionId\").distinct() \\\n",
    ".groupBy(\"userId\").count().orderBy(\"userId\").toPandas()"
   ]
  },
  {
   "cell_type": "code",
   "execution_count": 12,
   "metadata": {},
   "outputs": [],
   "source": [
    "# creating songsPerUser column\n",
    "songsPerUser = udf(lambda x: int(users_songs[\"count\"][users_songs['userId'] == x]), IntegerType())\n",
    "churn_dataframe = churn_dataframe.withColumn('songsPerUser', songsPerUser(\"userId\"))\n",
    "\n",
    "# creating sessionsPerUser column\n",
    "sessionsPerUser = udf(lambda x: int(users_sessions[\"count\"][users_sessions['userId'] == x]), IntegerType())\n",
    "churn_dataframe = churn_dataframe.withColumn('sessionsPerUser', sessionsPerUser(\"userId\"))"
   ]
  },
  {
   "cell_type": "markdown",
   "metadata": {},
   "source": [
    "The second part users activity are the visited pages. As we saw earlier the users did not cancel a subscription visited more times the pages 'Add Friend', 'Add to Playlist', 'Save Settings', 'Submit Upgrade', 'Thumbs Up'."
   ]
  },
  {
   "cell_type": "markdown",
   "metadata": {},
   "source": [
    "We can create some columns to store information about users activity on the pages."
   ]
  },
  {
   "cell_type": "markdown",
   "metadata": {},
   "source": [
    "Firstly, we create several pandas dataframes with count of visited pages."
   ]
  },
  {
   "cell_type": "code",
   "execution_count": 13,
   "metadata": {},
   "outputs": [],
   "source": [
    "# creating a pandas dataframe with count of visited Submit Downgrade page by user\n",
    "users_visited_Submit_Downgrade = spark_dataframe.filter(col(\"page\") == 'Submit Downgrade') \\\n",
    ".select(\"userId\", \"page\") \\\n",
    ".groupBy(\"userId\").count().orderBy(\"userId\").toPandas()\n",
    "\n",
    "# creating a pandas dataframe with count of visited Thumbs Down page by user\n",
    "users_visited_Thumbs_Down = spark_dataframe.filter(col(\"page\") == 'Thumbs Down') \\\n",
    ".select(\"userId\", \"page\") \\\n",
    ".groupBy(\"userId\").count().orderBy(\"userId\").toPandas()\n",
    "\n",
    "# creating a pandas dataframe with count of visited Save Settings page by user\n",
    "users_visited_Save_Settings = spark_dataframe.filter(col(\"page\") == 'Save Settings') \\\n",
    ".select(\"userId\", \"page\") \\\n",
    ".groupBy(\"userId\").count().orderBy(\"userId\").toPandas()\n",
    "\n",
    "# creating a pandas dataframe with count of visited Add to Playlist page by user\n",
    "users_visited_Add_to_Playlist = spark_dataframe.filter(col(\"page\") == 'Add to Playlist') \\\n",
    ".select(\"userId\", \"page\") \\\n",
    ".groupBy(\"userId\").count().orderBy(\"userId\").toPandas()\n",
    "\n",
    "# creating a pandas dataframe with count of visited Add Friend page by user\n",
    "users_visited_Add_Friend = spark_dataframe.filter(col(\"page\") == 'Add Friend') \\\n",
    ".select(\"userId\", \"page\") \\\n",
    ".groupBy(\"userId\").count().orderBy(\"userId\").toPandas()\n",
    "\n",
    "# creating a pandas dataframe with count of visited Thumbs Up page by user\n",
    "users_visited_Thumbs_Up = spark_dataframe.filter(col(\"page\") == 'Thumbs Up') \\\n",
    ".select(\"userId\", \"page\") \\\n",
    ".groupBy(\"userId\").count().orderBy(\"userId\").toPandas()\n",
    "\n",
    "# creating a pandas dataframe with count of visited Submit Upgrade page by user\n",
    "users_visited_Submit_Upgrade = spark_dataframe.filter(col(\"page\") == 'Submit Upgrade') \\\n",
    ".select(\"userId\", \"page\") \\\n",
    ".groupBy(\"userId\").count().orderBy(\"userId\").toPandas()"
   ]
  },
  {
   "cell_type": "markdown",
   "metadata": {},
   "source": [
    "Secondly, we create the columns with agregated data in the spark dataframe."
   ]
  },
  {
   "cell_type": "code",
   "execution_count": 14,
   "metadata": {},
   "outputs": [],
   "source": [
    "# creating countSD column\n",
    "countSD = udf(lambda x: int(users_visited_Submit_Downgrade[\"count\"] \\\n",
    "                            [users_visited_Submit_Downgrade[\"userId\"] == str(x)]) \\\n",
    "                        if users_visited_Submit_Downgrade[users_visited_Submit_Downgrade[\"userId\"] == x].shape[0] != 0 \\\n",
    "                        else 0, IntegerType())\n",
    "churn_dataframe = churn_dataframe.withColumn(\"countSD\", countSD(\"userId\"))\n",
    "\n",
    "# creating countTD column\n",
    "countTD = udf(lambda x: int(users_visited_Thumbs_Down[\"count\"] \\\n",
    "                            [users_visited_Thumbs_Down[\"userId\"] == str(x)]) \\\n",
    "                        if users_visited_Thumbs_Down[users_visited_Thumbs_Down[\"userId\"] == x].shape[0] != 0 \\\n",
    "                        else 0, IntegerType())\n",
    "churn_dataframe = churn_dataframe.withColumn('countTD', countTD(\"userId\"))\n",
    "\n",
    "# creating countSS column\n",
    "countSS = udf(lambda x: int(users_visited_Save_Settings[\"count\"] \\\n",
    "                            [users_visited_Save_Settings[\"userId\"] == str(x)]) \\\n",
    "                        if users_visited_Save_Settings[users_visited_Save_Settings[\"userId\"] == x].shape[0] != 0 \\\n",
    "                        else 0, IntegerType())\n",
    "churn_dataframe = churn_dataframe.withColumn('countSS', countSS(\"userId\"))\n",
    "\n",
    "# creating countAP column\n",
    "countAP = udf(lambda x: int(users_visited_Add_to_Playlist[\"count\"] \\\n",
    "                            [users_visited_Add_to_Playlist[\"userId\"] == str(x)]) \\\n",
    "                        if users_visited_Add_to_Playlist[users_visited_Add_to_Playlist[\"userId\"] == x].shape[0] != 0 \\\n",
    "                        else 0, IntegerType())\n",
    "churn_dataframe = churn_dataframe.withColumn('countAP', countAP(\"userId\"))\n",
    "\n",
    "# creating countAF column\n",
    "countAF = udf(lambda x: int(users_visited_Add_Friend[\"count\"] \\\n",
    "                            [users_visited_Add_Friend[\"userId\"] == str(x)]) \\\n",
    "                        if users_visited_Add_Friend[users_visited_Add_Friend[\"userId\"] == x].shape[0] != 0 \\\n",
    "                        else 0, IntegerType())\n",
    "churn_dataframe = churn_dataframe.withColumn('countAF', countAF(\"userId\"))\n",
    "\n",
    "# creating countTU column\n",
    "countTU = udf(lambda x: int(users_visited_Thumbs_Up[\"count\"] \\\n",
    "                            [users_visited_Thumbs_Up[\"userId\"] == str(x)]) \\\n",
    "                        if users_visited_Thumbs_Up[users_visited_Thumbs_Up[\"userId\"] == x].shape[0] != 0 \\\n",
    "                        else 0, IntegerType())\n",
    "churn_dataframe = churn_dataframe.withColumn('countTU', countTU(\"userId\"))\n",
    "\n",
    "# creating countSU column\n",
    "countSU = udf(lambda x: int(users_visited_Submit_Upgrade[\"count\"] \\\n",
    "                            [users_visited_Submit_Upgrade[\"userId\"] == str(x)]) \\\n",
    "                        if users_visited_Submit_Upgrade[users_visited_Submit_Upgrade[\"userId\"] == x].shape[0] != 0 \\\n",
    "                        else 0, IntegerType())\n",
    "churn_dataframe = churn_dataframe.withColumn('countSU', countSU(\"userId\"))"
   ]
  },
  {
   "cell_type": "markdown",
   "metadata": {},
   "source": [
    "Thirdly, we recreate the spark dataframe and drop columns with raw categorical data."
   ]
  },
  {
   "cell_type": "code",
   "execution_count": 15,
   "metadata": {},
   "outputs": [],
   "source": [
    "churn_dataframe = churn_dataframe.select(\"userId\", \"isMale\", \"isFemale\", \"isPaid\",\n",
    "                                        \"isFree\", \"songsPerUser\", \"sessionsPerUser\",\n",
    "                                        \"countSD\", \"countTD\", \"countSS\", \"countAP\",\n",
    "                                        \"countAF\", \"countTU\", \"countSU\", \"isChurn\")"
   ]
  },
  {
   "cell_type": "markdown",
   "metadata": {},
   "source": [
    "The final size of the spark dataframe."
   ]
  },
  {
   "cell_type": "code",
   "execution_count": 18,
   "metadata": {},
   "outputs": [
    {
     "data": {
      "text/plain": [
       "(225, 15)"
      ]
     },
     "execution_count": 18,
     "metadata": {},
     "output_type": "execute_result"
    }
   ],
   "source": [
    "churn_dataframe.toPandas().shape"
   ]
  },
  {
   "cell_type": "markdown",
   "metadata": {},
   "source": [
    "# Modeling\n"
   ]
  },
  {
   "cell_type": "markdown",
   "metadata": {},
   "source": [
    "We create a feature vector."
   ]
  },
  {
   "cell_type": "code",
   "execution_count": 16,
   "metadata": {},
   "outputs": [],
   "source": [
    "assembler = VectorAssembler(inputCols = churn_dataframe.columns[1:-1], outputCol = \"featuresVector\")"
   ]
  },
  {
   "cell_type": "markdown",
   "metadata": {},
   "source": [
    "And add the vector to a new spark dataframe."
   ]
  },
  {
   "cell_type": "code",
   "execution_count": 17,
   "metadata": {},
   "outputs": [],
   "source": [
    "data = assembler.transform(churn_dataframe)"
   ]
  },
  {
   "cell_type": "markdown",
   "metadata": {},
   "source": [
    "We have to standardize the data."
   ]
  },
  {
   "cell_type": "code",
   "execution_count": 18,
   "metadata": {},
   "outputs": [],
   "source": [
    "scaler = StandardScaler(inputCol = \"featuresVector\", outputCol = \"FeaturesScaled\", withStd = True)\n",
    "scaler = scaler.fit(data)\n",
    "data = scaler.transform(data)"
   ]
  },
  {
   "cell_type": "markdown",
   "metadata": {},
   "source": [
    "And to mark the target as \"label\" and the features as \"features\"."
   ]
  },
  {
   "cell_type": "code",
   "execution_count": 19,
   "metadata": {},
   "outputs": [],
   "source": [
    "data = data.select(data.isChurn.alias(\"label\"), data.FeaturesScaled.alias(\"features\"))"
   ]
  },
  {
   "cell_type": "markdown",
   "metadata": {},
   "source": [
    "Split the whole dataframe to train and test parts."
   ]
  },
  {
   "cell_type": "code",
   "execution_count": 20,
   "metadata": {},
   "outputs": [],
   "source": [
    "train, test = data.randomSplit([0.8, 0.2], seed = 42)"
   ]
  },
  {
   "cell_type": "markdown",
   "metadata": {},
   "source": [
    "#### Random Forest Model"
   ]
  },
  {
   "cell_type": "markdown",
   "metadata": {},
   "source": [
    "Random Forest Classifier initialization."
   ]
  },
  {
   "cell_type": "code",
   "execution_count": 25,
   "metadata": {},
   "outputs": [],
   "source": [
    "RF = RandomForestClassifier()"
   ]
  },
  {
   "cell_type": "markdown",
   "metadata": {},
   "source": [
    "Grid creating for tuning."
   ]
  },
  {
   "cell_type": "code",
   "execution_count": 26,
   "metadata": {},
   "outputs": [],
   "source": [
    "paramGrid = ParamGridBuilder() \\\n",
    "            .addGrid(RF.impurity,['entropy', 'gini']) \\\n",
    "            .addGrid(RF.maxDepth,[3, 5, 10]) \\\n",
    "            .addGrid(RF.seed, [42]) \\\n",
    "            .build()"
   ]
  },
  {
   "cell_type": "markdown",
   "metadata": {},
   "source": [
    "Creating the model"
   ]
  },
  {
   "cell_type": "code",
   "execution_count": 27,
   "metadata": {},
   "outputs": [],
   "source": [
    "cv = CrossValidator(estimator=RF,\n",
    "                    estimatorParamMaps=paramGrid,\n",
    "                     evaluator=MulticlassClassificationEvaluator(),\n",
    "                    numFolds=5)"
   ]
  },
  {
   "cell_type": "markdown",
   "metadata": {},
   "source": [
    "Fitting the model"
   ]
  },
  {
   "cell_type": "code",
   "execution_count": 28,
   "metadata": {},
   "outputs": [],
   "source": [
    "modelRF = cv.fit(train)"
   ]
  },
  {
   "cell_type": "markdown",
   "metadata": {},
   "source": [
    "Evaluating the model on the test data"
   ]
  },
  {
   "cell_type": "code",
   "execution_count": 29,
   "metadata": {},
   "outputs": [],
   "source": [
    "resultsRF = modelRF.transform(test)"
   ]
  },
  {
   "cell_type": "code",
   "execution_count": 31,
   "metadata": {},
   "outputs": [
    {
     "name": "stdout",
     "output_type": "stream",
     "text": [
      "f1 for Random Forest model: 0.87\n"
     ]
    }
   ],
   "source": [
    "evaluatorRF = MulticlassClassificationEvaluator(predictionCol=\"prediction\", labelCol=\"label\")\n",
    "f1_score_RF = evaluatorRF.evaluate(resultsRF, {evaluatorRF.metricName: \"f1\"})\n",
    "print(f'f1 for Random Forest model: {round(f1_score_RF, 2)}')"
   ]
  },
  {
   "cell_type": "markdown",
   "metadata": {},
   "source": [
    "Accuracy calculation"
   ]
  },
  {
   "cell_type": "code",
   "execution_count": 26,
   "metadata": {},
   "outputs": [
    {
     "name": "stdout",
     "output_type": "stream",
     "text": [
      "The Random Forest accuracy is 0.87\n"
     ]
    }
   ],
   "source": [
    "hitRF =  resultsRF.filter(resultsRF.label == resultsRF.prediction).count()\n",
    "totalRFcount = resultsRF.count()\n",
    "\n",
    "# calculate the accuracy for Random Forest\n",
    "accuracyRF = round(hitRF / totalRFcount, 2)\n",
    "print(f'The Random Forest accuracy is {accuracyRF}')"
   ]
  },
  {
   "cell_type": "markdown",
   "metadata": {},
   "source": [
    "#### Logistic Regression model"
   ]
  },
  {
   "cell_type": "markdown",
   "metadata": {},
   "source": [
    "Logistic Regression Classifier initialization."
   ]
  },
  {
   "cell_type": "code",
   "execution_count": 32,
   "metadata": {},
   "outputs": [],
   "source": [
    "LR = LogisticRegression()"
   ]
  },
  {
   "cell_type": "markdown",
   "metadata": {},
   "source": [
    "Grid creating for tuning."
   ]
  },
  {
   "cell_type": "code",
   "execution_count": 34,
   "metadata": {},
   "outputs": [],
   "source": [
    "paramGrid = ParamGridBuilder() \\\n",
    "                .addGrid(LR.elasticNetParam, [0.0, 0.2, 0.6]) \\\n",
    "                .addGrid(LR.regParam, [0.0, 0.8]) \\\n",
    "                .addGrid(LR.maxIter, [10, 20]) \\\n",
    "                .build()"
   ]
  },
  {
   "cell_type": "markdown",
   "metadata": {},
   "source": [
    "Creating the model"
   ]
  },
  {
   "cell_type": "code",
   "execution_count": 35,
   "metadata": {},
   "outputs": [],
   "source": [
    "cv = CrossValidator(estimator = LR,\n",
    "                    estimatorParamMaps = paramGrid,\n",
    "                    evaluator = MulticlassClassificationEvaluator(),\n",
    "                    numFolds = 3)"
   ]
  },
  {
   "cell_type": "markdown",
   "metadata": {},
   "source": [
    "Fitting the model"
   ]
  },
  {
   "cell_type": "code",
   "execution_count": 36,
   "metadata": {},
   "outputs": [],
   "source": [
    "modelLR = cv.fit(train)"
   ]
  },
  {
   "cell_type": "markdown",
   "metadata": {},
   "source": [
    "Evaluating the model on the test data"
   ]
  },
  {
   "cell_type": "code",
   "execution_count": 37,
   "metadata": {},
   "outputs": [],
   "source": [
    "resultsLR = modelLR.transform(test)"
   ]
  },
  {
   "cell_type": "code",
   "execution_count": 38,
   "metadata": {},
   "outputs": [
    {
     "name": "stdout",
     "output_type": "stream",
     "text": [
      "f1 for Logistic Regression model: 0.8\n"
     ]
    }
   ],
   "source": [
    "evaluatorLR = MulticlassClassificationEvaluator(predictionCol=\"prediction\", labelCol=\"label\")\n",
    "f1_score_LR = evaluatorLR.evaluate(resultsLR, {evaluatorLR.metricName: \"f1\"})\n",
    "print(f'f1 for Logistic Regression model: {round(f1_score_LR, 2)}')"
   ]
  },
  {
   "cell_type": "markdown",
   "metadata": {},
   "source": [
    "Accuracy calculation"
   ]
  },
  {
   "cell_type": "code",
   "execution_count": 30,
   "metadata": {},
   "outputs": [
    {
     "name": "stdout",
     "output_type": "stream",
     "text": [
      "The Logistic Regression accuracy is 0.85\n"
     ]
    }
   ],
   "source": [
    "hitLR =  resultsLR.filter(resultsLR.label == resultsLR.prediction).count()\n",
    "totalLRcount = resultsLR.count()\n",
    "\n",
    "# calculate the accuracy for Logistic Regression\n",
    "accuracyLR = round(hitLR / totalLRcount, 2)\n",
    "print(f'The Logistic Regression accuracy is {accuracyLR}')"
   ]
  },
  {
   "cell_type": "markdown",
   "metadata": {},
   "source": [
    "#### Gradient-Boosted Trees Classifier model"
   ]
  },
  {
   "cell_type": "markdown",
   "metadata": {},
   "source": [
    "Gradient-boosted tree Classifier initialization."
   ]
  },
  {
   "cell_type": "code",
   "execution_count": 21,
   "metadata": {},
   "outputs": [],
   "source": [
    "GBT = GBTClassifier()"
   ]
  },
  {
   "cell_type": "markdown",
   "metadata": {},
   "source": [
    "Grid creating for tuning."
   ]
  },
  {
   "cell_type": "code",
   "execution_count": 22,
   "metadata": {},
   "outputs": [],
   "source": [
    "paramGrid = ParamGridBuilder() \\\n",
    "                .addGrid(GBT.maxIter,[5, 10]) \\\n",
    "                .addGrid(GBT.maxDepth,[4, 6, 8]) \\\n",
    "                .build()"
   ]
  },
  {
   "cell_type": "markdown",
   "metadata": {},
   "source": [
    "Creating the model"
   ]
  },
  {
   "cell_type": "code",
   "execution_count": 23,
   "metadata": {},
   "outputs": [],
   "source": [
    "cvGBT = CrossValidator(estimator=GBT,\n",
    "                    estimatorParamMaps=paramGrid,\n",
    "                    evaluator=MulticlassClassificationEvaluator(),\n",
    "                    numFolds=5)"
   ]
  },
  {
   "cell_type": "markdown",
   "metadata": {},
   "source": [
    "Fitting the model"
   ]
  },
  {
   "cell_type": "code",
   "execution_count": 24,
   "metadata": {},
   "outputs": [],
   "source": [
    "modelGBT = cvGBT.fit(train)"
   ]
  },
  {
   "cell_type": "markdown",
   "metadata": {},
   "source": [
    "Evaluating the model on the test data"
   ]
  },
  {
   "cell_type": "code",
   "execution_count": 25,
   "metadata": {},
   "outputs": [],
   "source": [
    "resultsGBT = modelGBT.transform(test)"
   ]
  },
  {
   "cell_type": "code",
   "execution_count": 26,
   "metadata": {},
   "outputs": [
    {
     "name": "stdout",
     "output_type": "stream",
     "text": [
      "f1 for Gradient-Boosted Trees  model: 0.7\n"
     ]
    }
   ],
   "source": [
    "evaluatorGBT = MulticlassClassificationEvaluator(predictionCol=\"prediction\", labelCol=\"label\")\n",
    "f1_score_GBT = evaluatorGBT.evaluate(resultsGBT, {evaluatorGBT.metricName: \"f1\"})\n",
    "print(f'f1 for Gradient-Boosted Trees  model: {round(f1_score_GBT, 2)}')"
   ]
  },
  {
   "cell_type": "markdown",
   "metadata": {},
   "source": [
    "Accuracy calculation"
   ]
  },
  {
   "cell_type": "code",
   "execution_count": 44,
   "metadata": {},
   "outputs": [
    {
     "name": "stdout",
     "output_type": "stream",
     "text": [
      "The Gradient-Boosted Trees accuracy is 0.62\n"
     ]
    }
   ],
   "source": [
    "hitGBT =  resultsGBT.filter(resultsGBT.label == resultsGBT.prediction).count()\n",
    "totalGBTcount = resultsGBT.count()\n",
    "\n",
    "# calculate the accuracy for Gradient-Boosted Trees\n",
    "accuracyGBT = round(hitGBT / totalGBTcount, 2)\n",
    "print(f'The Gradient-Boosted Trees accuracy is {accuracyGBT}')"
   ]
  },
  {
   "cell_type": "markdown",
   "metadata": {},
   "source": [
    "# Conclusion\n"
   ]
  },
  {
   "cell_type": "markdown",
   "metadata": {},
   "source": [
    "The hardest part of the project was a prerpocessing the dataset. I was wandered that the initial dataset had not been a 'dataset'. It was not a spread of some features. The initial dataset was a part of log file that consisted users actifity.\n",
    "\n",
    "I had to transform the project's data to dataset with unique user's records.\n",
    "\n",
    "The second problem was the most dataset columns was not a feature columns. These columns included records that described user's sessions and actions. And I wrangled the data and aggregeted it.\n",
    "\n",
    "Random Forest model gives the best F1-score: 0.87.\n",
    "\n",
    "Logistic Regression model take the second place with F1-score: 0.8.\n",
    "\n",
    "Gradient-boosted tree is the worst model for the project, F1-score:\n",
    "\n",
    "To improve a f1 score we should to perform the data to balanced dataset. We can use undersampling or oversampling methods."
   ]
  }
 ],
 "metadata": {
  "kernelspec": {
   "display_name": "Python 3",
   "language": "python",
   "name": "python3"
  },
  "language_info": {
   "codemirror_mode": {
    "name": "ipython",
    "version": 3
   },
   "file_extension": ".py",
   "mimetype": "text/x-python",
   "name": "python",
   "nbconvert_exporter": "python",
   "pygments_lexer": "ipython3",
   "version": "3.6.3"
  }
 },
 "nbformat": 4,
 "nbformat_minor": 2
}
